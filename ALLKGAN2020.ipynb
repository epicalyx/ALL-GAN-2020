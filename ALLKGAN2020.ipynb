{
  "nbformat": 4,
  "nbformat_minor": 0,
  "metadata": {
    "colab": {
      "name": "ALLKGAN2020.ipynb",
      "provenance": [],
      "collapsed_sections": []
    },
    "kernelspec": {
      "name": "python3",
      "display_name": "Python 3"
    },
    "accelerator": "GPU"
  },
  "cells": [
    {
      "cell_type": "markdown",
      "metadata": {
        "id": "8nsx2WMTeKoc",
        "colab_type": "text"
      },
      "source": [
        "\n",
        "# Introduction\n",
        "\n",
        "#### - This notebook explores a novel convolutional network architechture as discussed in the following research paper to build a classification system for better assistance in diagonosing Acute Lymphoblastic Leukemia in blood cells.\n",
        "**[Research Paper](http://www.ijcte.org/vol10/1198-H0012.pdf)**\n",
        "\n",
        "\n",
        "#### - The dataset has been taken from : [Link](https://homes.di.unimi.it/scotti/all/)\n",
        "\n",
        "* Here, ALL_IDB2 version of the dataset has been used\n",
        "\n",
        "* This dataset is completely balanced with equal number of samples in both the classes.\n",
        "\n",
        "\n",
        "#### - Data augmentation ensures that data is large enough and model extracts features efficiently without overfitting and therefore we have analysed two types of data augmentation techniques in this notebook\n",
        "* A particular type of GAN called [SinGAN](https://arxiv.org/pdf/1905.01164.pdf) was used alongwith the following techniques mentioned in the research paper:\n",
        "\n",
        "   1. Grayscaling of image\n",
        "   2. Horizontal reflection\n",
        "   3. Vertical reflection\n",
        "   4. Gaussian Blurring\n",
        "   5. Histogram Equalization\n",
        "   6. Rotation\n",
        "   7. Translation\n",
        "   8. Shearing\n",
        "\n",
        "* SinGAN without the above techniques\n",
        "\n",
        "**The dataset was split into 80% and 20% for training and testing respectively.**\n",
        "\n",
        "#### - The details of methodologies and results of our present analysis is present [here](https://docs.google.com/document/d/11XXjFRofXlyNGcE_plRDMO4xjxELFnkVqGtBEGomL2k/edit?usp=sharing)\n",
        "#### - It is also worth noting the biases present in our methodology, ethical concerns and qualititaive interpretation of our results, mentioned in the doc\n",
        "\n",
        "\n",
        "\n",
        "#### Below is the detailed code implementation.\n",
        "\n"
      ]
    },
    {
      "cell_type": "markdown",
      "metadata": {
        "id": "AfZJS4lHhUXE",
        "colab_type": "text"
      },
      "source": [
        "### Loading requires packages\n",
        "\n",
        "\n"
      ]
    },
    {
      "cell_type": "code",
      "metadata": {
        "id": "EbOH9uy7is9V",
        "colab_type": "code",
        "colab": {
          "base_uri": "https://localhost:8080/",
          "height": 218
        },
        "outputId": "99c16d22-3781-49a9-fcc9-2fc92c82833a"
      },
      "source": [
        "!pip install keras_metrics"
      ],
      "execution_count": 3,
      "outputs": [
        {
          "output_type": "stream",
          "text": [
            "Collecting keras_metrics\n",
            "  Downloading https://files.pythonhosted.org/packages/32/c9/a87420da8e73de944e63a8e9cdcfb1f03ca31a7c4cdcdbd45d2cdf13275a/keras_metrics-1.1.0-py2.py3-none-any.whl\n",
            "Requirement already satisfied: Keras>=2.1.5 in /usr/local/lib/python3.6/dist-packages (from keras_metrics) (2.2.5)\n",
            "Requirement already satisfied: h5py in /usr/local/lib/python3.6/dist-packages (from Keras>=2.1.5->keras_metrics) (2.8.0)\n",
            "Requirement already satisfied: pyyaml in /usr/local/lib/python3.6/dist-packages (from Keras>=2.1.5->keras_metrics) (3.13)\n",
            "Requirement already satisfied: numpy>=1.9.1 in /usr/local/lib/python3.6/dist-packages (from Keras>=2.1.5->keras_metrics) (1.18.2)\n",
            "Requirement already satisfied: scipy>=0.14 in /usr/local/lib/python3.6/dist-packages (from Keras>=2.1.5->keras_metrics) (1.4.1)\n",
            "Requirement already satisfied: six>=1.9.0 in /usr/local/lib/python3.6/dist-packages (from Keras>=2.1.5->keras_metrics) (1.12.0)\n",
            "Requirement already satisfied: keras-preprocessing>=1.1.0 in /usr/local/lib/python3.6/dist-packages (from Keras>=2.1.5->keras_metrics) (1.1.0)\n",
            "Requirement already satisfied: keras-applications>=1.0.8 in /usr/local/lib/python3.6/dist-packages (from Keras>=2.1.5->keras_metrics) (1.0.8)\n",
            "Installing collected packages: keras-metrics\n",
            "Successfully installed keras-metrics-1.1.0\n"
          ],
          "name": "stdout"
        }
      ]
    },
    {
      "cell_type": "code",
      "metadata": {
        "id": "vQ8BE0xmnLD6",
        "colab_type": "code",
        "colab": {}
      },
      "source": [
        "from pathlib import Path\n",
        "import glob\n",
        "import random\n",
        "import cv2\n",
        "from numpy.random import seed\n",
        "from tensorflow import set_random_seed\n",
        "import pandas as pd\n",
        "import numpy as np\n",
        "from sklearn.utils import shuffle\n",
        "from sklearn.model_selection import train_test_split\n",
        "from sklearn.metrics import confusion_matrix\n",
        "from scipy import ndimage\n",
        "from skimage import exposure\n",
        "import skimage\n",
        "from skimage import io\n",
        "from skimage import transform as tm\n",
        "import seaborn as sns\n",
        "import tensorflow as tf\n",
        "import tensorflow_hub as hub\n",
        "import keras\n",
        "from keras.utils import np_utils\n",
        "from keras.models import Model,Sequential\n",
        "from keras.layers import Dense,Flatten,Activation\n",
        "from keras.callbacks import ModelCheckpoint, EarlyStopping\n",
        "from keras.preprocessing.image import ImageDataGenerator\n",
        "from keras.layers import Activation, Convolution2D, Dropout, Conv2D\n",
        "from keras.layers import AveragePooling2D, BatchNormalization\n",
        "from keras.layers import GlobalAveragePooling2D\n",
        "from keras.layers import Input,GaussianNoise\n",
        "from keras.layers import MaxPooling2D\n",
        "from keras.layers import SeparableConv2D\n",
        "from keras import layers\n",
        "from keras.regularizers import l2\n",
        "import keras_metrics\n",
        "import matplotlib.pyplot as plt\n",
        "from keras.optimizers import Adam,RMSprop,SGD\n",
        "from sklearn.metrics import confusion_matrix,precision_score,recall_score\n",
        "from sklearn.metrics import roc_auc_score\n",
        "from keras import backend as K\n",
        "%matplotlib inline"
      ],
      "execution_count": 0,
      "outputs": []
    },
    {
      "cell_type": "code",
      "metadata": {
        "id": "tH2z2eQB6ZpX",
        "colab_type": "code",
        "colab": {}
      },
      "source": [
        "# for consistemt results across multiple executions\n",
        "seed(3)\n",
        "set_random_seed(3)"
      ],
      "execution_count": 0,
      "outputs": []
    },
    {
      "cell_type": "code",
      "metadata": {
        "id": "bXixiXFmnVVT",
        "colab_type": "code",
        "colab": {
          "base_uri": "https://localhost:8080/",
          "height": 50
        },
        "outputId": "725e9c00-2e72-4275-dda5-d1249cfe0d1d"
      },
      "source": [
        "print(keras.__version__)\n",
        "print(tf.__version__)"
      ],
      "execution_count": 6,
      "outputs": [
        {
          "output_type": "stream",
          "text": [
            "2.2.5\n",
            "1.15.0\n"
          ],
          "name": "stdout"
        }
      ]
    },
    {
      "cell_type": "code",
      "metadata": {
        "id": "WqiLXt66iRb_",
        "colab_type": "code",
        "colab": {
          "base_uri": "https://localhost:8080/",
          "height": 121
        },
        "outputId": "ab3319a2-a686-421e-f898-499c1bf61a45"
      },
      "source": [
        "from google.colab import drive\n",
        "drive.mount('/content/gdrive',force_remount=True)"
      ],
      "execution_count": 7,
      "outputs": [
        {
          "output_type": "stream",
          "text": [
            "Go to this URL in a browser: https://accounts.google.com/o/oauth2/auth?client_id=947318989803-6bn6qk8qdgf4n4g3pfee6491hc0brc4i.apps.googleusercontent.com&redirect_uri=urn%3aietf%3awg%3aoauth%3a2.0%3aoob&response_type=code&scope=email%20https%3a%2f%2fwww.googleapis.com%2fauth%2fdocs.test%20https%3a%2f%2fwww.googleapis.com%2fauth%2fdrive%20https%3a%2f%2fwww.googleapis.com%2fauth%2fdrive.photos.readonly%20https%3a%2f%2fwww.googleapis.com%2fauth%2fpeopleapi.readonly\n",
            "\n",
            "Enter your authorization code:\n",
            "··········\n",
            "Mounted at /content/gdrive\n"
          ],
          "name": "stdout"
        }
      ]
    },
    {
      "cell_type": "code",
      "metadata": {
        "id": "ku_cFf0I6oIk",
        "colab_type": "code",
        "colab": {}
      },
      "source": [
        "import os\n",
        "path = 'gdrive/My Drive/ALL_GAN_Dataset/'\n",
        "test = Path(path+'test')\n",
        "test_images = test.glob(\"*.tif\")\n",
        "train = Path(path+'train')\n",
        "train_images = train.glob(\"*.tif\")"
      ],
      "execution_count": 0,
      "outputs": []
    },
    {
      "cell_type": "markdown",
      "metadata": {
        "id": "FRVHnxBk65mH",
        "colab_type": "text"
      },
      "source": [
        "##### The following code snippet is to seperately read test and train data, for cases where we do not want to augment test data\n"
      ]
    },
    {
      "cell_type": "code",
      "metadata": {
        "id": "aI8IoArMMFVl",
        "colab_type": "code",
        "outputId": "49df6300-dedd-486e-b767-40777b6a79dd",
        "colab": {
          "base_uri": "https://localhost:8080/",
          "height": 195
        }
      },
      "source": [
        "test_data = []\n",
        "train_data = []\n",
        "\n",
        "for img in test_images:\n",
        "  name, ext = os.path.splitext(os.path.basename(img))\n",
        "  if name[-1]=='1':\n",
        "    test_data.append((img,1))\n",
        "  elif name[-1]=='0':\n",
        "    test_data.append((img,0))\n",
        "\n",
        "for image in train_images:\n",
        "  name, ext = os.path.splitext(os.path.basename(image))\n",
        "  if name[-1]=='1':\n",
        "    train_data.append((image,1))\n",
        "  elif name[-1]=='0':\n",
        "    train_data.append((image,0))\n",
        "\n",
        "test_data = pd.DataFrame(test_data,columns=['image','label'],index = None)\n",
        "test_data = test_data.sample(frac=1.).reset_index(drop=True)\n",
        "\n",
        "train_data = pd.DataFrame(train_data,columns=['image','label'],index = None)\n",
        "train_data = train_data.sample(frac=1.).reset_index(drop=True)\n",
        "\n",
        "test_data.head()"
      ],
      "execution_count": 11,
      "outputs": [
        {
          "output_type": "execute_result",
          "data": {
            "text/html": [
              "<div>\n",
              "<style scoped>\n",
              "    .dataframe tbody tr th:only-of-type {\n",
              "        vertical-align: middle;\n",
              "    }\n",
              "\n",
              "    .dataframe tbody tr th {\n",
              "        vertical-align: top;\n",
              "    }\n",
              "\n",
              "    .dataframe thead th {\n",
              "        text-align: right;\n",
              "    }\n",
              "</style>\n",
              "<table border=\"1\" class=\"dataframe\">\n",
              "  <thead>\n",
              "    <tr style=\"text-align: right;\">\n",
              "      <th></th>\n",
              "      <th>image</th>\n",
              "      <th>label</th>\n",
              "    </tr>\n",
              "  </thead>\n",
              "  <tbody>\n",
              "    <tr>\n",
              "      <th>0</th>\n",
              "      <td>gdrive/My Drive/ALL_GAN_Dataset/test/Im017_1.tif</td>\n",
              "      <td>1</td>\n",
              "    </tr>\n",
              "    <tr>\n",
              "      <th>1</th>\n",
              "      <td>gdrive/My Drive/ALL_GAN_Dataset/test/Im148_0.tif</td>\n",
              "      <td>0</td>\n",
              "    </tr>\n",
              "    <tr>\n",
              "      <th>2</th>\n",
              "      <td>gdrive/My Drive/ALL_GAN_Dataset/test/Im208_0.tif</td>\n",
              "      <td>0</td>\n",
              "    </tr>\n",
              "    <tr>\n",
              "      <th>3</th>\n",
              "      <td>gdrive/My Drive/ALL_GAN_Dataset/test/Im011_1.tif</td>\n",
              "      <td>1</td>\n",
              "    </tr>\n",
              "    <tr>\n",
              "      <th>4</th>\n",
              "      <td>gdrive/My Drive/ALL_GAN_Dataset/test/Im071_1.tif</td>\n",
              "      <td>1</td>\n",
              "    </tr>\n",
              "  </tbody>\n",
              "</table>\n",
              "</div>"
            ],
            "text/plain": [
              "                                              image  label\n",
              "0  gdrive/My Drive/ALL_GAN_Dataset/test/Im017_1.tif      1\n",
              "1  gdrive/My Drive/ALL_GAN_Dataset/test/Im148_0.tif      0\n",
              "2  gdrive/My Drive/ALL_GAN_Dataset/test/Im208_0.tif      0\n",
              "3  gdrive/My Drive/ALL_GAN_Dataset/test/Im011_1.tif      1\n",
              "4  gdrive/My Drive/ALL_GAN_Dataset/test/Im071_1.tif      1"
            ]
          },
          "metadata": {
            "tags": []
          },
          "execution_count": 11
        }
      ]
    },
    {
      "cell_type": "markdown",
      "metadata": {
        "id": "vJkCCC-A7Zof",
        "colab_type": "text"
      },
      "source": [
        "##### The following code is for cases where we want to augment the test data as well. Here train-test split is performed after whole data is augmented\n"
      ]
    },
    {
      "cell_type": "code",
      "metadata": {
        "id": "2Ks6cvdU6uSy",
        "colab_type": "code",
        "colab": {}
      },
      "source": [
        "data = []\n",
        "\n",
        "for img in test_images:\n",
        "  name, ext = os.path.splitext(os.path.basename(img))\n",
        "  if name[6]=='1':\n",
        "    data.append((img,1))\n",
        "  elif name[6]=='0':\n",
        "    data.append((img,0))\n",
        "\n",
        "for image in train_images:\n",
        "  name, ext = os.path.splitext(os.path.basename(image))\n",
        "  if name[-1]=='1':\n",
        "    data.append((image,1))\n",
        "  elif name[-1]=='0':\n",
        "    data.append((image,0))\n",
        "\n",
        "data = pd.DataFrame(data,columns=['image','label'],index = None)\n",
        "data = data.sample(frac=1.).reset_index(drop=True) "
      ],
      "execution_count": 0,
      "outputs": []
    },
    {
      "cell_type": "markdown",
      "metadata": {
        "id": "zewhaj6Ul0Y_",
        "colab_type": "text"
      },
      "source": [
        "## Data Exploration and Augmentation as presented in the paper\n",
        "\n",
        "### 8 augmentation techniques have been used here\n",
        "1. Grayscaling of image\n",
        "2. Horizontal reflection \n",
        "3. Vertical reflection\n",
        "4. Gaussian Blurring \n",
        "5. Histogram Equalization\n",
        "6. Rotation\n",
        "7. Translation\n",
        "8. Shearing"
      ]
    },
    {
      "cell_type": "code",
      "metadata": {
        "id": "f71MR6OdWyJO",
        "colab_type": "code",
        "colab": {}
      },
      "source": [
        "# histogram equalization function\n",
        "def hist(img):\n",
        "  \n",
        "  img_to_yuv = cv2.cvtColor(img,cv2.COLOR_BGR2YUV)\n",
        "  img_to_yuv[:,:,0] = cv2.equalizeHist(img_to_yuv[:,:,0])\n",
        "  hist_equalization_result = cv2.cvtColor(img_to_yuv, cv2.COLOR_YUV2BGR)\n",
        "  return hist_equalization_result\n",
        " \n"
      ],
      "execution_count": 0,
      "outputs": []
    },
    {
      "cell_type": "code",
      "metadata": {
        "id": "81rPbbtegU2h",
        "colab_type": "code",
        "colab": {}
      },
      "source": [
        "# function to perform rotation on an image\n",
        "def rotation(img):\n",
        "  rows,cols = img.shape[0],img.shape[1]\n",
        "  randDeg = random.randint(-180, 180)\n",
        "  matrix = cv2.getRotationMatrix2D((cols/2, rows/2), randDeg, 0.70)\n",
        "  rotated = cv2.warpAffine(img, matrix, (rows, cols), borderMode=cv2.BORDER_CONSTANT,\n",
        "                                     borderValue=(144, 159, 162))\n",
        "  return rotated     "
      ],
      "execution_count": 0,
      "outputs": []
    },
    {
      "cell_type": "code",
      "metadata": {
        "id": "Urz26j6qZJFG",
        "colab_type": "code",
        "colab": {}
      },
      "source": [
        "# function to perform shearing of an image\n",
        "def shear(img):\n",
        "  # Create Afine transform\n",
        "  afine_tf = tm.AffineTransform(shear=0.5)\n",
        "\n",
        "  # Apply transform to image data\n",
        "  modified = tm.warp(img, inverse_map=afine_tf)\n",
        "  \n",
        "  return modified"
      ],
      "execution_count": 0,
      "outputs": []
    },
    {
      "cell_type": "code",
      "metadata": {
        "id": "sYS6DhKxKrvJ",
        "colab_type": "code",
        "colab": {}
      },
      "source": [
        "def aug_method(dataframe,dim,method):\n",
        "  if method == 'paper':\n",
        "    \n",
        "    n = len(dataframe)\n",
        "\n",
        "    data = np.zeros((n*6,dim,dim,3),dtype = np.float32)\n",
        "    labels = np.zeros((n*6,2),dtype = np.float32)\n",
        "\n",
        "\n",
        "    count = 0\n",
        "\n",
        "\n",
        "    for j in range(0,n):\n",
        "\n",
        "      img_name = dataframe.iloc[j]['image']\n",
        "      label = dataframe.iloc[j]['label']\n",
        "\n",
        "      encoded_label = np_utils.to_categorical(label, num_classes=2)\n",
        "\n",
        "      img = cv2.imread(str(img_name))\n",
        "      img = cv2.resize(img, (dim,dim))\n",
        "\n",
        "      if img.shape[2]==1:\n",
        "\n",
        "        img = np.dstack([img, img, img])\n",
        "\n",
        "\n",
        "\n",
        "      orig_img = img.astype(np.float32)/255.\n",
        "\n",
        "      data[count] = orig_img\n",
        "      labels[count] = encoded_label\n",
        "\n",
        "      # Cases where we also use SinGAN as a data augmentation technique, only 5 out of the above 8 have been used.\n",
        "      \n",
        "      aug_img1 = cv2.cvtColor(img, cv2.COLOR_BGR2GRAY)\n",
        "      aug_img2 = cv2.flip(img, 0) \n",
        "      #aug_img3 = cv2.flip(img,1)\n",
        "      #aug_img4 = ndimage.gaussian_filter(img, sigma= 5.11)\n",
        "      aug_img5 = hist(img)\n",
        "      aug_img6 = rotation(img)\n",
        "      aug_img7 = cv2.warpAffine(img, np.float32([[1, 0, 84], [0, 1, 56]]), (img.shape[0], img.shape[1]),\n",
        "                                  borderMode=cv2.BORDER_CONSTANT, borderValue=(144, 159, 162))\n",
        "      #aug_img8 = shear(img)\n",
        "\n",
        "      aug_img1 = np.dstack([aug_img1, aug_img1, aug_img1])\n",
        "\n",
        "\n",
        "      aug_img1 = aug_img1.astype(np.float32)/255.                 \n",
        "      aug_img2 = aug_img2.astype(np.float32)/255.\n",
        "      #aug_img3 = aug_img3.astype(np.float32)/255. \n",
        "      #aug_img4 = aug_img4.astype(np.float32)/255.\n",
        "      aug_img5 = aug_img5.astype(np.float32)/255.\n",
        "      aug_img6 = aug_img6.astype(np.float32)/255.\n",
        "      aug_img7 = aug_img7.astype(np.float32)/255.\n",
        "      #aug_img8 = aug_img8.astype(np.float32)/255.\n",
        "\n",
        "      data[count+1] = aug_img1\n",
        "      labels[count+1] = encoded_label\n",
        "      data[count+2] = aug_img2\n",
        "      labels[count+2] = encoded_label\n",
        "      data[count+3] = aug_img5\n",
        "      labels[count+3] = encoded_label\n",
        "      data[count+4] = aug_img6\n",
        "      labels[count+4] = encoded_label\n",
        "      data[count+5] = aug_img7\n",
        "      labels[count+5] = encoded_label\n",
        "      #data[count+6] = aug_img5\n",
        "      #labels[count+6] = encoded_label\n",
        "      #data[count+7] = aug_img5\n",
        "      #labels[count+7] = encoded_label\n",
        "      #data[count+8] = aug_img5\n",
        "      #labels[count+8] = encoded_label\n",
        "\n",
        "      count +=6\n",
        "      \n",
        "  elif method == 'keras':\n",
        "    n = len(dataframe)\n",
        "  \n",
        "    data = np.zeros((n,dim,dim,3),dtype = np.float32)\n",
        "    labels = np.zeros((n,2),dtype = np.float32)\n",
        "  \n",
        "  \n",
        "    count = 0\n",
        "  \n",
        "    \n",
        "    for j in range(0,n):\n",
        "    \n",
        "      img_name = dataframe.iloc[j]['image']\n",
        "      label = dataframe.iloc[j]['label']\n",
        "      \n",
        "      encoded_label = np_utils.to_categorical(label, num_classes=2)\n",
        "            \n",
        "      img = cv2.imread(str(img_name))\n",
        "      img = cv2.resize(img, (dim,dim))\n",
        "      \n",
        "      if img.shape[2]==1:\n",
        "     \n",
        "        img = np.dstack([img, img, img])\n",
        "                        \n",
        "    \n",
        "            \n",
        "      orig_img = img.astype(np.float32)/255.\n",
        "                        \n",
        "      data[count] = orig_img\n",
        "      labels[count] = encoded_label\n",
        "    \n",
        "      count +=1\n",
        "    \n",
        "    \n",
        "                      \n",
        "      \n",
        "  return data,labels                  "
      ],
      "execution_count": 0,
      "outputs": []
    },
    {
      "cell_type": "code",
      "metadata": {
        "id": "JNpCxyTmdclD",
        "colab_type": "code",
        "colab": {}
      },
      "source": [
        "'''Both train and test set (already augmented with SinGAN) augmented with 5 augmentation methods as discussed in the paper'''\n",
        "data,labels = aug_method(data,dim=100,method='paper')\n",
        "\n",
        "''' Train and test set , augmented with SinGAN only'''\n",
        "#data,labels = aug_method(data,dim=100,method='keras')\n",
        "\n",
        "\n",
        "print('Shape of full dataset:', data.shape)\n",
        "data = np.asarray(data)\n",
        "labels = np.asarray(labels)\n",
        "Data,Label = shuffle(data,labels, random_state=3)\n",
        "data_list = [Data,Label]\n",
        "\n",
        "\n",
        "(X, y) = (data_list[0],data_list[1])\n",
        "X_train, X_test, y_train, y_test = train_test_split(X, y, test_size=0.20, random_state=3)\n",
        "\n",
        "print('Shape of training data:',X_train.shape)\n",
        "print('Shape of test data:',X_test.shape)\n"
      ],
      "execution_count": 0,
      "outputs": []
    },
    {
      "cell_type": "code",
      "metadata": {
        "id": "MllJOUPlItHB",
        "colab_type": "code",
        "colab": {}
      },
      "source": [
        "''' Train set augmented with SinGAN and data augmentation techniques discussed above, and test set not augmented at all'''\n",
        "X_train,y_train = aug_method(train_data,dim=100,method='paper')\n",
        "X_test,y_test = aug_method(test_data,dim=100,method='keras')\n",
        "\n",
        "''' Train set augmented with SinGAN only, test set not augmented'''\n",
        "#X_train,y_train = aug_method(train_data,dim=100,method='keras')\n",
        "#X_test,y_test = aug_method(test_data,dim=100,method='keras')\n",
        "\n",
        "X_train = np.asarray(X_train)\n",
        "y_train = np.asarray(y_train)\n",
        "\n",
        "X_test = np.asarray(X_test)\n",
        "y_test = np.asarray(y_test)\n",
        "\n",
        "print('Shape of training data:',X_train.shape)\n",
        "print('Shape of test data:',X_test.shape)\n"
      ],
      "execution_count": 0,
      "outputs": []
    },
    {
      "cell_type": "markdown",
      "metadata": {
        "id": "qrAQNIXMpPv7",
        "colab_type": "text"
      },
      "source": [
        "\n",
        "\n",
        "###**The following model was used in the paper**\n",
        "Additionaly three dropout layers with different dropout rates have been used to reduce overfitting"
      ]
    },
    {
      "cell_type": "code",
      "metadata": {
        "id": "X6-Em20CpBof",
        "colab_type": "code",
        "outputId": "cf0e8ce6-862a-4a66-d627-054bb78b055d",
        "colab": {
          "base_uri": "https://localhost:8080/",
          "height": 289
        }
      },
      "source": [
        "model = Sequential()\n",
        "model.add(Conv2D(16,(5,5),padding='valid',input_shape = X_train.shape[1:]))\n",
        "model.add(Activation('relu'))\n",
        "model.add(MaxPooling2D(pool_size=(2,2),strides=2,padding = 'valid'))\n",
        "model.add(Dropout(0.4))\n",
        "\n",
        "model.add(Conv2D(32,(5,5),padding='valid'))\n",
        "model.add(Activation('relu'))\n",
        "model.add(MaxPooling2D(pool_size=(2,2),strides=2,padding = 'valid'))\n",
        "model.add(Dropout(0.6))\n",
        "\n",
        "model.add(Conv2D(64,(5,5),padding='valid'))\n",
        "model.add(Activation('relu'))\n",
        "model.add(Dropout(0.8))\n",
        "\n",
        "model.add(Flatten())\n",
        "model.add(Dense(2,activation = 'softmax'))\n",
        "\n",
        "\n"
      ],
      "execution_count": 0,
      "outputs": [
        {
          "output_type": "stream",
          "text": [
            "WARNING:tensorflow:From /usr/local/lib/python3.6/dist-packages/keras/backend/tensorflow_backend.py:66: The name tf.get_default_graph is deprecated. Please use tf.compat.v1.get_default_graph instead.\n",
            "\n",
            "WARNING:tensorflow:From /usr/local/lib/python3.6/dist-packages/keras/backend/tensorflow_backend.py:541: The name tf.placeholder is deprecated. Please use tf.compat.v1.placeholder instead.\n",
            "\n",
            "WARNING:tensorflow:From /usr/local/lib/python3.6/dist-packages/keras/backend/tensorflow_backend.py:4432: The name tf.random_uniform is deprecated. Please use tf.random.uniform instead.\n",
            "\n",
            "WARNING:tensorflow:From /usr/local/lib/python3.6/dist-packages/keras/backend/tensorflow_backend.py:4267: The name tf.nn.max_pool is deprecated. Please use tf.nn.max_pool2d instead.\n",
            "\n",
            "WARNING:tensorflow:From /usr/local/lib/python3.6/dist-packages/keras/backend/tensorflow_backend.py:148: The name tf.placeholder_with_default is deprecated. Please use tf.compat.v1.placeholder_with_default instead.\n",
            "\n",
            "WARNING:tensorflow:From /usr/local/lib/python3.6/dist-packages/keras/backend/tensorflow_backend.py:3733: calling dropout (from tensorflow.python.ops.nn_ops) with keep_prob is deprecated and will be removed in a future version.\n",
            "Instructions for updating:\n",
            "Please use `rate` instead of `keep_prob`. Rate should be set to `rate = 1 - keep_prob`.\n",
            "WARNING:tensorflow:Large dropout rate: 0.6 (>0.5). In TensorFlow 2.x, dropout() uses dropout rate instead of keep_prob. Please ensure that this is intended.\n",
            "WARNING:tensorflow:Large dropout rate: 0.8 (>0.5). In TensorFlow 2.x, dropout() uses dropout rate instead of keep_prob. Please ensure that this is intended.\n"
          ],
          "name": "stdout"
        }
      ]
    },
    {
      "cell_type": "code",
      "metadata": {
        "id": "ZnjtIKJqt28j",
        "colab_type": "code",
        "outputId": "dba4ec7e-58a7-4abe-e4db-44ed1fcdd57f",
        "colab": {
          "base_uri": "https://localhost:8080/",
          "height": 588
        }
      },
      "source": [
        "model.summary()"
      ],
      "execution_count": 0,
      "outputs": [
        {
          "output_type": "stream",
          "text": [
            "Model: \"sequential_1\"\n",
            "_________________________________________________________________\n",
            "Layer (type)                 Output Shape              Param #   \n",
            "=================================================================\n",
            "conv2d_1 (Conv2D)            (None, 96, 96, 16)        1216      \n",
            "_________________________________________________________________\n",
            "activation_1 (Activation)    (None, 96, 96, 16)        0         \n",
            "_________________________________________________________________\n",
            "max_pooling2d_1 (MaxPooling2 (None, 48, 48, 16)        0         \n",
            "_________________________________________________________________\n",
            "dropout_1 (Dropout)          (None, 48, 48, 16)        0         \n",
            "_________________________________________________________________\n",
            "conv2d_2 (Conv2D)            (None, 44, 44, 32)        12832     \n",
            "_________________________________________________________________\n",
            "activation_2 (Activation)    (None, 44, 44, 32)        0         \n",
            "_________________________________________________________________\n",
            "max_pooling2d_2 (MaxPooling2 (None, 22, 22, 32)        0         \n",
            "_________________________________________________________________\n",
            "dropout_2 (Dropout)          (None, 22, 22, 32)        0         \n",
            "_________________________________________________________________\n",
            "conv2d_3 (Conv2D)            (None, 18, 18, 64)        51264     \n",
            "_________________________________________________________________\n",
            "activation_3 (Activation)    (None, 18, 18, 64)        0         \n",
            "_________________________________________________________________\n",
            "dropout_3 (Dropout)          (None, 18, 18, 64)        0         \n",
            "_________________________________________________________________\n",
            "flatten_1 (Flatten)          (None, 20736)             0         \n",
            "_________________________________________________________________\n",
            "dense_1 (Dense)              (None, 2)                 41474     \n",
            "=================================================================\n",
            "Total params: 106,786\n",
            "Trainable params: 106,786\n",
            "Non-trainable params: 0\n",
            "_________________________________________________________________\n"
          ],
          "name": "stdout"
        }
      ]
    },
    {
      "cell_type": "code",
      "metadata": {
        "id": "z6c9jTb_L5YU",
        "colab_type": "code",
        "outputId": "945ea612-378d-4698-aa60-128110d9dead",
        "colab": {
          "base_uri": "https://localhost:8080/",
          "height": 1000
        }
      },
      "source": [
        "# Model visualization\n",
        "from keras.utils.vis_utils import plot_model\n",
        "plot_model(model, to_file='model_plot.png', show_shapes=True, show_layer_names=True)"
      ],
      "execution_count": 0,
      "outputs": [
        {
          "output_type": "execute_result",
          "data": {
            "image/png": "[encoded data removed]",
            "text/plain": [
              "<IPython.core.display.Image object>"
            ]
          },
          "metadata": {
            "tags": []
          },
          "execution_count": 44
        }
      ]
    },
    {
      "cell_type": "markdown",
      "metadata": {
        "id": "qzEj3RvpHYNA",
        "colab_type": "text"
      },
      "source": [
        "#### **Case 1: Using both data augmentation methods, without augmenting the test set**\n",
        "\n"
      ]
    },
    {
      "cell_type": "code",
      "metadata": {
        "colab_type": "code",
        "id": "p76OFKBR7Z1Q",
        "outputId": "23f28ad3-d9bb-4d4f-f886-ead49acc2893",
        "colab": {
          "base_uri": "https://localhost:8080/",
          "height": 188
        }
      },
      "source": [
        "# singan + da; test set not augmented\n",
        "batch_size = 100\n",
        "epochs = 50\n",
        "\n",
        "optimizer = keras.optimizers.rmsprop(lr = 0.0001, decay = 1e-6)\n",
        "\n",
        "model.compile(loss = 'binary_crossentropy',optimizer = optimizer, metrics = ['accuracy',keras_metrics.precision(), keras_metrics.recall()])"
      ],
      "execution_count": 0,
      "outputs": [
        {
          "output_type": "stream",
          "text": [
            "WARNING:tensorflow:From /usr/local/lib/python3.6/dist-packages/keras/optimizers.py:793: The name tf.train.Optimizer is deprecated. Please use tf.compat.v1.train.Optimizer instead.\n",
            "\n",
            "WARNING:tensorflow:From /usr/local/lib/python3.6/dist-packages/keras/backend/tensorflow_backend.py:3657: The name tf.log is deprecated. Please use tf.math.log instead.\n",
            "\n",
            "WARNING:tensorflow:From /usr/local/lib/python3.6/dist-packages/tensorflow_core/python/ops/nn_impl.py:183: where (from tensorflow.python.ops.array_ops) is deprecated and will be removed in a future version.\n",
            "Instructions for updating:\n",
            "Use tf.where in 2.0, which has the same broadcast rule as np.where\n",
            "WARNING:tensorflow:From /usr/local/lib/python3.6/dist-packages/keras/backend/tensorflow_backend.py:1033: The name tf.assign_add is deprecated. Please use tf.compat.v1.assign_add instead.\n",
            "\n"
          ],
          "name": "stdout"
        }
      ]
    },
    {
      "cell_type": "code",
      "metadata": {
        "id": "YZ3_r2427ZNY",
        "colab_type": "code",
        "colab": {}
      },
      "source": [
        "#Model fitting\n",
        "history = model.fit(X_train,y_train,steps_per_epoch = int(len(X_train)/batch_size),epochs=epochs)\n",
        "history"
      ],
      "execution_count": 0,
      "outputs": []
    },
    {
      "cell_type": "code",
      "metadata": {
        "id": "-OxCE-c3aOlq",
        "colab_type": "code",
        "outputId": "821ace08-60b8-4483-cbfb-886b450b2051",
        "colab": {
          "base_uri": "https://localhost:8080/",
          "height": 34
        }
      },
      "source": [
        "# Evaluation on test set- 2nd run\n",
        "score = model.evaluate(X_test,y_test,verbose=0)\n",
        "score"
      ],
      "execution_count": 0,
      "outputs": [
        {
          "output_type": "execute_result",
          "data": {
            "text/plain": [
              "[4.322822332382202, 0.6958333333333333, 0.6437499995976562, 0.8655462177600453]"
            ]
          },
          "metadata": {
            "tags": []
          },
          "execution_count": 46
        }
      ]
    },
    {
      "cell_type": "markdown",
      "metadata": {
        "id": "eToCU1L3ITR6",
        "colab_type": "text"
      },
      "source": [
        "### **Metrics**\n",
        "**Accuracy: 69.5%**\n",
        "\n",
        "**Precision: 0.64**\n",
        "\n",
        "**Recall: 0.86**\n",
        "\n"
      ]
    },
    {
      "cell_type": "code",
      "metadata": {
        "colab_type": "code",
        "outputId": "fbf4f4fc-9774-4e67-c26c-990cd86c4857",
        "id": "4jyrtwMoaYe2",
        "colab": {
          "base_uri": "https://localhost:8080/",
          "height": 499
        }
      },
      "source": [
        "# Accuracy and loss curves\n",
        "acc = history.history['acc']\n",
        "\n",
        "\n",
        "loss = history.history['loss']\n",
        "\n",
        "plt.figure(figsize=(8, 8))\n",
        "plt.subplot(2, 1, 1)\n",
        "plt.plot(acc, label='Training Accuracy')\n",
        "plt.legend(loc='lower right')\n",
        "plt.ylabel('Accuracy')\n",
        "plt.ylim([min(plt.ylim()),1])\n",
        "plt.title('Training Accuracy')\n",
        "\n",
        "plt.subplot(2, 1, 2)\n",
        "plt.plot(loss, label='Training Loss')\n",
        "plt.legend(loc='upper right')\n",
        "plt.ylabel('Cross Entropy')\n",
        "plt.ylim([0,max(plt.ylim())])\n",
        "plt.title('Training Loss')\n",
        "plt.show()"
      ],
      "execution_count": 0,
      "outputs": [
        {
          "output_type": "display_data",
          "data": {
            "image/png": "[encoded data removed]",
            "text/plain": [
              "<Figure size 576x576 with 2 Axes>"
            ]
          },
          "metadata": {
            "tags": []
          }
        }
      ]
    },
    {
      "cell_type": "markdown",
      "metadata": {
        "id": "bzVgUYT-Jye-",
        "colab_type": "text"
      },
      "source": [
        "#### **Case 2: Using both data augmentation methods, and augmenting test set as well**\n"
      ]
    },
    {
      "cell_type": "code",
      "metadata": {
        "colab_type": "code",
        "id": "V1EPVvZJksgF",
        "colab": {}
      },
      "source": [
        "# singan + da; test set augmented\n",
        "batch_size = 100\n",
        "epochs = 50\n",
        "\n",
        "optimizer = keras.optimizers.rmsprop(lr = 0.0001, decay = 1e-6)\n",
        "\n",
        "model.compile(loss = 'binary_crossentropy',optimizer = optimizer, metrics = ['accuracy',keras_metrics.precision(), keras_metrics.recall()])"
      ],
      "execution_count": 0,
      "outputs": []
    },
    {
      "cell_type": "code",
      "metadata": {
        "id": "pgyLoC2LkzN3",
        "colab_type": "code",
        "outputId": "b58a812b-3e37-45ef-c64d-a65568c107d7",
        "colab": {
          "base_uri": "https://localhost:8080/",
          "height": 1000
        }
      },
      "source": [
        "history = model.fit(X_train,y_train,steps_per_epoch = int(len(X_train)/batch_size),epochs=epochs)\n",
        "history"
      ],
      "execution_count": 0,
      "outputs": [
        {
          "output_type": "stream",
          "text": [
            "Epoch 1/50\n",
            "60/60 [==============================] - 55s 909ms/step - loss: 0.6737 - acc: 0.5980 - precision: 0.6091 - recall: 0.7033\n",
            "Epoch 2/50\n",
            "60/60 [==============================] - 54s 905ms/step - loss: 0.5373 - acc: 0.7383 - precision: 0.7321 - recall: 0.8090\n",
            "Epoch 3/50\n",
            "60/60 [==============================] - 55s 917ms/step - loss: 0.4670 - acc: 0.7680 - precision: 0.7590 - recall: 0.8326\n",
            "Epoch 4/50\n",
            "60/60 [==============================] - 55s 909ms/step - loss: 0.4278 - acc: 0.7816 - precision: 0.7717 - recall: 0.8431\n",
            "Epoch 5/50\n",
            "60/60 [==============================] - 55s 909ms/step - loss: 0.4006 - acc: 0.7944 - precision: 0.7832 - recall: 0.8537\n",
            "Epoch 6/50\n",
            "60/60 [==============================] - 54s 907ms/step - loss: 0.3806 - acc: 0.8061 - precision: 0.7959 - recall: 0.8595\n",
            "Epoch 7/50\n",
            "60/60 [==============================] - 55s 919ms/step - loss: 0.3602 - acc: 0.8201 - precision: 0.8084 - recall: 0.8718\n",
            "Epoch 8/50\n",
            "60/60 [==============================] - 54s 895ms/step - loss: 0.3406 - acc: 0.8337 - precision: 0.8213 - recall: 0.8826\n",
            "Epoch 9/50\n",
            "60/60 [==============================] - 54s 898ms/step - loss: 0.3196 - acc: 0.8472 - precision: 0.8318 - recall: 0.8970\n",
            "Epoch 10/50\n",
            "60/60 [==============================] - 55s 915ms/step - loss: 0.2968 - acc: 0.8604 - precision: 0.8411 - recall: 0.9125\n",
            "Epoch 11/50\n",
            "60/60 [==============================] - 54s 893ms/step - loss: 0.2732 - acc: 0.8752 - precision: 0.8526 - recall: 0.9281\n",
            "Epoch 12/50\n",
            "60/60 [==============================] - 54s 899ms/step - loss: 0.2474 - acc: 0.8913 - precision: 0.8684 - recall: 0.9402\n",
            "Epoch 13/50\n",
            "60/60 [==============================] - 55s 921ms/step - loss: 0.2211 - acc: 0.9108 - precision: 0.8921 - recall: 0.9487\n",
            "Epoch 14/50\n",
            "60/60 [==============================] - 54s 905ms/step - loss: 0.1972 - acc: 0.9273 - precision: 0.9154 - recall: 0.9527\n",
            "Epoch 15/50\n",
            "60/60 [==============================] - 55s 921ms/step - loss: 0.1762 - acc: 0.9381 - precision: 0.9303 - recall: 0.9565\n",
            "Epoch 16/50\n",
            "60/60 [==============================] - 54s 905ms/step - loss: 0.1609 - acc: 0.9452 - precision: 0.9390 - recall: 0.9604\n",
            "Epoch 17/50\n",
            "60/60 [==============================] - 55s 912ms/step - loss: 0.1475 - acc: 0.9499 - precision: 0.9450 - recall: 0.9628\n",
            "Epoch 18/50\n",
            "60/60 [==============================] - 54s 895ms/step - loss: 0.1364 - acc: 0.9540 - precision: 0.9491 - recall: 0.9661\n",
            "Epoch 19/50\n",
            "60/60 [==============================] - 55s 918ms/step - loss: 0.1275 - acc: 0.9575 - precision: 0.9528 - recall: 0.9688\n",
            "Epoch 20/50\n",
            "60/60 [==============================] - 54s 898ms/step - loss: 0.1194 - acc: 0.9611 - precision: 0.9562 - recall: 0.9721\n",
            "Epoch 21/50\n",
            "60/60 [==============================] - 54s 894ms/step - loss: 0.1112 - acc: 0.9637 - precision: 0.9587 - recall: 0.9744\n",
            "Epoch 22/50\n",
            "60/60 [==============================] - 54s 895ms/step - loss: 0.1052 - acc: 0.9667 - precision: 0.9615 - recall: 0.9772\n",
            "Epoch 23/50\n",
            "60/60 [==============================] - 54s 905ms/step - loss: 0.0993 - acc: 0.9688 - precision: 0.9638 - recall: 0.9787\n",
            "Epoch 24/50\n",
            "60/60 [==============================] - 55s 921ms/step - loss: 0.0944 - acc: 0.9704 - precision: 0.9651 - recall: 0.9804\n",
            "Epoch 25/50\n",
            "60/60 [==============================] - 54s 896ms/step - loss: 0.0897 - acc: 0.9722 - precision: 0.9671 - recall: 0.9817\n",
            "Epoch 26/50\n",
            "60/60 [==============================] - 53s 890ms/step - loss: 0.0856 - acc: 0.9735 - precision: 0.9686 - recall: 0.9826\n",
            "Epoch 27/50\n",
            "60/60 [==============================] - 55s 918ms/step - loss: 0.0817 - acc: 0.9746 - precision: 0.9697 - recall: 0.9834\n",
            "Epoch 28/50\n",
            "60/60 [==============================] - 54s 892ms/step - loss: 0.0779 - acc: 0.9759 - precision: 0.9710 - recall: 0.9845\n",
            "Epoch 29/50\n",
            "60/60 [==============================] - 54s 897ms/step - loss: 0.0753 - acc: 0.9768 - precision: 0.9721 - recall: 0.9851\n",
            "Epoch 30/50\n",
            "60/60 [==============================] - 54s 908ms/step - loss: 0.0726 - acc: 0.9776 - precision: 0.9728 - recall: 0.9858\n",
            "Epoch 31/50\n",
            "60/60 [==============================] - 54s 892ms/step - loss: 0.0699 - acc: 0.9781 - precision: 0.9734 - recall: 0.9861\n",
            "Epoch 32/50\n",
            "60/60 [==============================] - 52s 871ms/step - loss: 0.0675 - acc: 0.9789 - precision: 0.9745 - recall: 0.9865\n",
            "Epoch 33/50\n",
            "60/60 [==============================] - 54s 906ms/step - loss: 0.0652 - acc: 0.9795 - precision: 0.9750 - recall: 0.9871\n",
            "Epoch 34/50\n",
            "60/60 [==============================] - 54s 896ms/step - loss: 0.0633 - acc: 0.9801 - precision: 0.9756 - recall: 0.9876\n",
            "Epoch 35/50\n",
            "60/60 [==============================] - 54s 897ms/step - loss: 0.0619 - acc: 0.9805 - precision: 0.9758 - recall: 0.9882\n",
            "Epoch 36/50\n",
            "60/60 [==============================] - 54s 894ms/step - loss: 0.0594 - acc: 0.9811 - precision: 0.9766 - recall: 0.9886\n",
            "Epoch 37/50\n",
            "60/60 [==============================] - 55s 909ms/step - loss: 0.0581 - acc: 0.9814 - precision: 0.9771 - recall: 0.9886\n",
            "Epoch 38/50\n",
            "60/60 [==============================] - 53s 891ms/step - loss: 0.0569 - acc: 0.9818 - precision: 0.9773 - recall: 0.9891\n",
            "Epoch 39/50\n",
            "60/60 [==============================] - 55s 911ms/step - loss: 0.0544 - acc: 0.9825 - precision: 0.9780 - recall: 0.9897\n",
            "Epoch 40/50\n",
            "60/60 [==============================] - 54s 894ms/step - loss: 0.0531 - acc: 0.9829 - precision: 0.9784 - recall: 0.9902\n",
            "Epoch 41/50\n",
            "60/60 [==============================] - 54s 898ms/step - loss: 0.0525 - acc: 0.9832 - precision: 0.9787 - recall: 0.9904\n",
            "Epoch 42/50\n",
            "60/60 [==============================] - 55s 911ms/step - loss: 0.0509 - acc: 0.9836 - precision: 0.9792 - recall: 0.9906\n",
            "Epoch 43/50\n",
            "60/60 [==============================] - 54s 906ms/step - loss: 0.0495 - acc: 0.9840 - precision: 0.9795 - recall: 0.9910\n",
            "Epoch 44/50\n",
            "60/60 [==============================] - 55s 911ms/step - loss: 0.0480 - acc: 0.9846 - precision: 0.9800 - recall: 0.9916\n",
            "Epoch 45/50\n",
            "60/60 [==============================] - 54s 904ms/step - loss: 0.0477 - acc: 0.9845 - precision: 0.9801 - recall: 0.9913\n",
            "Epoch 46/50\n",
            "60/60 [==============================] - 55s 911ms/step - loss: 0.0464 - acc: 0.9852 - precision: 0.9807 - recall: 0.9920\n",
            "Epoch 47/50\n",
            "60/60 [==============================] - 55s 916ms/step - loss: 0.0453 - acc: 0.9853 - precision: 0.9807 - recall: 0.9922\n",
            "Epoch 48/50\n",
            "60/60 [==============================] - 54s 902ms/step - loss: 0.0443 - acc: 0.9856 - precision: 0.9810 - recall: 0.9924\n",
            "Epoch 49/50\n",
            "60/60 [==============================] - 54s 905ms/step - loss: 0.0434 - acc: 0.9859 - precision: 0.9813 - recall: 0.9927\n",
            "Epoch 50/50\n",
            "60/60 [==============================] - 55s 911ms/step - loss: 0.0430 - acc: 0.9861 - precision: 0.9816 - recall: 0.9928\n"
          ],
          "name": "stdout"
        },
        {
          "output_type": "execute_result",
          "data": {
            "text/plain": [
              "<keras.callbacks.History at 0x7f387b7f39b0>"
            ]
          },
          "metadata": {
            "tags": []
          },
          "execution_count": 88
        }
      ]
    },
    {
      "cell_type": "code",
      "metadata": {
        "id": "jSJ8BiRDr2sD",
        "colab_type": "code",
        "outputId": "9bfbe26c-0a4b-4f42-e745-a30c30657ebb",
        "colab": {
          "base_uri": "https://localhost:8080/",
          "height": 84
        }
      },
      "source": [
        "# Evaluation on test set - 2nd run\n",
        "score = model.evaluate(X_test,y_test,verbose=0)\n",
        "score"
      ],
      "execution_count": 0,
      "outputs": [
        {
          "output_type": "execute_result",
          "data": {
            "text/plain": [
              "[0.07157495578938218,\n",
              " 0.9781746031746031,\n",
              " 0.9715976330211128,\n",
              " 0.9891566263868486]"
            ]
          },
          "metadata": {
            "tags": []
          },
          "execution_count": 89
        }
      ]
    },
    {
      "cell_type": "markdown",
      "metadata": {
        "id": "ohEISM57M3NY",
        "colab_type": "text"
      },
      "source": [
        "### **Metrics**\n",
        "**Accuracy: 97.8%**\n",
        "\n",
        "**Precision: 0.97**\n",
        "\n",
        "**Recall: 0.98**\n"
      ]
    },
    {
      "cell_type": "code",
      "metadata": {
        "id": "YyR0QDg2SHwd",
        "colab_type": "code",
        "outputId": "b425bcf2-0ee8-4df6-c14c-5707906970f9",
        "colab": {
          "base_uri": "https://localhost:8080/",
          "height": 499
        }
      },
      "source": [
        "# Accuracy and loss curves\n",
        "acc = history.history['acc']\n",
        "\n",
        "\n",
        "loss = history.history['loss']\n",
        "\n",
        "plt.figure(figsize=(8, 8))\n",
        "plt.subplot(2, 1, 1)\n",
        "plt.plot(acc, label='Training Accuracy')\n",
        "plt.legend(loc='lower right')\n",
        "plt.ylabel('Accuracy')\n",
        "plt.ylim([min(plt.ylim()),1])\n",
        "plt.title('Training Accuracy')\n",
        "\n",
        "plt.subplot(2, 1, 2)\n",
        "plt.plot(loss, label='Training Loss')\n",
        "plt.legend(loc='upper right')\n",
        "plt.ylabel('Cross Entropy')\n",
        "plt.ylim([0,max(plt.ylim())])\n",
        "plt.title('Training Loss')\n",
        "plt.show()"
      ],
      "execution_count": 0,
      "outputs": [
        {
          "output_type": "display_data",
          "data": {
            "image/png": "[encoded data removed]",
            "text/plain": [
              "<Figure size 576x576 with 2 Axes>"
            ]
          },
          "metadata": {
            "tags": []
          }
        }
      ]
    },
    {
      "cell_type": "markdown",
      "metadata": {
        "id": "QSnpdBXcNO1Z",
        "colab_type": "text"
      },
      "source": [
        "#### **Case 3: Using only SinGAN, and augmenting test set as well**"
      ]
    },
    {
      "cell_type": "code",
      "metadata": {
        "colab_type": "code",
        "id": "yfTD5xjieOOD",
        "colab": {}
      },
      "source": [
        "# singan only; test set augmented\n",
        "batch_size = 32\n",
        "epochs = 50\n",
        "\n",
        "optimizer = keras.optimizers.rmsprop(lr = 0.0001, decay = 1e-6)\n",
        "\n",
        "model.compile(loss = 'binary_crossentropy',optimizer = optimizer, metrics = ['accuracy',keras_metrics.precision(), keras_metrics.recall()])"
      ],
      "execution_count": 0,
      "outputs": []
    },
    {
      "cell_type": "code",
      "metadata": {
        "id": "xDPIfX74eUlE",
        "colab_type": "code",
        "outputId": "0cb415ff-9caa-4f12-e1c9-96c037f787dd",
        "colab": {
          "base_uri": "https://localhost:8080/",
          "height": 1000
        }
      },
      "source": [
        "history = model.fit(X_train,y_train,steps_per_epoch = int(len(X_train)/batch_size),epochs=epochs)\n",
        "history"
      ],
      "execution_count": 0,
      "outputs": [
        {
          "output_type": "stream",
          "text": [
            "Epoch 1/50\n",
            "31/31 [==============================] - 5s 148ms/step - loss: 0.6367 - acc: 0.6314 - precision: 0.6423 - recall: 0.7279\n",
            "Epoch 2/50\n",
            "31/31 [==============================] - 4s 121ms/step - loss: 0.4385 - acc: 0.8010 - precision: 0.8167 - recall: 0.8179\n",
            "Epoch 3/50\n",
            "31/31 [==============================] - 4s 121ms/step - loss: 0.3368 - acc: 0.8592 - precision: 0.8727 - recall: 0.8677\n",
            "Epoch 4/50\n",
            "31/31 [==============================] - 4s 122ms/step - loss: 0.2918 - acc: 0.8853 - precision: 0.8981 - recall: 0.8901\n",
            "Epoch 5/50\n",
            "31/31 [==============================] - 4s 121ms/step - loss: 0.2564 - acc: 0.9045 - precision: 0.9108 - recall: 0.9139\n",
            "Epoch 6/50\n",
            "31/31 [==============================] - 4s 122ms/step - loss: 0.2323 - acc: 0.9186 - precision: 0.9211 - recall: 0.9300\n",
            "Epoch 7/50\n",
            "31/31 [==============================] - 4s 122ms/step - loss: 0.2077 - acc: 0.9284 - precision: 0.9255 - recall: 0.9444\n",
            "Epoch 8/50\n",
            "31/31 [==============================] - 4s 121ms/step - loss: 0.1866 - acc: 0.9375 - precision: 0.9304 - recall: 0.9568\n",
            "Epoch 9/50\n",
            "31/31 [==============================] - 4s 122ms/step - loss: 0.1669 - acc: 0.9441 - precision: 0.9332 - recall: 0.9665\n",
            "Epoch 10/50\n",
            "31/31 [==============================] - 4s 121ms/step - loss: 0.1460 - acc: 0.9502 - precision: 0.9362 - recall: 0.9749\n",
            "Epoch 11/50\n",
            "31/31 [==============================] - 4s 121ms/step - loss: 0.1277 - acc: 0.9558 - precision: 0.9416 - recall: 0.9794\n",
            "Epoch 12/50\n",
            "31/31 [==============================] - 4s 121ms/step - loss: 0.1069 - acc: 0.9611 - precision: 0.9468 - recall: 0.9838\n",
            "Epoch 13/50\n",
            "31/31 [==============================] - 4s 121ms/step - loss: 0.0891 - acc: 0.9680 - precision: 0.9572 - recall: 0.9853\n",
            "Epoch 14/50\n",
            "31/31 [==============================] - 4s 121ms/step - loss: 0.0674 - acc: 0.9766 - precision: 0.9682 - recall: 0.9896\n",
            "Epoch 15/50\n",
            "31/31 [==============================] - 4s 121ms/step - loss: 0.0522 - acc: 0.9817 - precision: 0.9761 - recall: 0.9906\n",
            "Epoch 16/50\n",
            "31/31 [==============================] - 4s 121ms/step - loss: 0.0381 - acc: 0.9878 - precision: 0.9837 - recall: 0.9940\n",
            "Epoch 17/50\n",
            "31/31 [==============================] - 4s 121ms/step - loss: 0.0288 - acc: 0.9911 - precision: 0.9888 - recall: 0.9950\n",
            "Epoch 18/50\n",
            "31/31 [==============================] - 4s 122ms/step - loss: 0.0216 - acc: 0.9933 - precision: 0.9914 - recall: 0.9963\n",
            "Epoch 19/50\n",
            "31/31 [==============================] - 4s 121ms/step - loss: 0.0172 - acc: 0.9947 - precision: 0.9937 - recall: 0.9965\n",
            "Epoch 20/50\n",
            "31/31 [==============================] - 4s 121ms/step - loss: 0.0142 - acc: 0.9954 - precision: 0.9943 - recall: 0.9973\n",
            "Epoch 21/50\n",
            "31/31 [==============================] - 4s 122ms/step - loss: 0.0116 - acc: 0.9966 - precision: 0.9957 - recall: 0.9980\n",
            "Epoch 22/50\n",
            "31/31 [==============================] - 4s 121ms/step - loss: 0.0098 - acc: 0.9970 - precision: 0.9967 - recall: 0.9978\n",
            "Epoch 23/50\n",
            "31/31 [==============================] - 4s 121ms/step - loss: 0.0083 - acc: 0.9975 - precision: 0.9973 - recall: 0.9981\n",
            "Epoch 24/50\n",
            "31/31 [==============================] - 4s 121ms/step - loss: 0.0083 - acc: 0.9973 - precision: 0.9974 - recall: 0.9977\n",
            "Epoch 25/50\n",
            "31/31 [==============================] - 4s 121ms/step - loss: 0.0059 - acc: 0.9984 - precision: 0.9980 - recall: 0.9991\n",
            "Epoch 26/50\n",
            "31/31 [==============================] - 4s 120ms/step - loss: 0.0054 - acc: 0.9983 - precision: 0.9979 - recall: 0.9990\n",
            "Epoch 27/50\n",
            "31/31 [==============================] - 4s 121ms/step - loss: 0.0044 - acc: 0.9985 - precision: 0.9982 - recall: 0.9990\n",
            "Epoch 28/50\n",
            "31/31 [==============================] - 4s 121ms/step - loss: 0.0046 - acc: 0.9987 - precision: 0.9984 - recall: 0.9992\n",
            "Epoch 29/50\n",
            "31/31 [==============================] - 4s 122ms/step - loss: 0.0040 - acc: 0.9988 - precision: 0.9984 - recall: 0.9994\n",
            "Epoch 30/50\n",
            "31/31 [==============================] - 4s 122ms/step - loss: 0.0040 - acc: 0.9988 - precision: 0.9986 - recall: 0.9992\n",
            "Epoch 31/50\n",
            "31/31 [==============================] - 4s 121ms/step - loss: 0.0030 - acc: 0.9991 - precision: 0.9989 - recall: 0.9994\n",
            "Epoch 32/50\n",
            "31/31 [==============================] - 4s 121ms/step - loss: 0.0030 - acc: 0.9991 - precision: 0.9990 - recall: 0.9993\n",
            "Epoch 33/50\n",
            "31/31 [==============================] - 4s 121ms/step - loss: 0.0024 - acc: 0.9993 - precision: 0.9993 - recall: 0.9995\n",
            "Epoch 34/50\n",
            "31/31 [==============================] - 4s 121ms/step - loss: 0.0023 - acc: 0.9992 - precision: 0.9991 - recall: 0.9995\n",
            "Epoch 35/50\n",
            "31/31 [==============================] - 4s 121ms/step - loss: 0.0028 - acc: 0.9992 - precision: 0.9992 - recall: 0.9994\n",
            "Epoch 36/50\n",
            "31/31 [==============================] - 4s 121ms/step - loss: 0.0026 - acc: 0.9994 - precision: 0.9995 - recall: 0.9994\n",
            "Epoch 37/50\n",
            "31/31 [==============================] - 4s 121ms/step - loss: 0.0016 - acc: 0.9997 - precision: 0.9994 - recall: 0.9999\n",
            "Epoch 38/50\n",
            "31/31 [==============================] - 4s 120ms/step - loss: 0.0031 - acc: 0.9992 - precision: 0.9994 - recall: 0.9992\n",
            "Epoch 39/50\n",
            "31/31 [==============================] - 4s 121ms/step - loss: 0.0019 - acc: 0.9995 - precision: 0.9994 - recall: 0.9997\n",
            "Epoch 40/50\n",
            "31/31 [==============================] - 4s 121ms/step - loss: 0.0018 - acc: 0.9996 - precision: 0.9996 - recall: 0.9997\n",
            "Epoch 41/50\n",
            "31/31 [==============================] - 4s 121ms/step - loss: 0.0012 - acc: 0.9997 - precision: 0.9997 - recall: 0.9999\n",
            "Epoch 42/50\n",
            "31/31 [==============================] - 4s 121ms/step - loss: 0.0025 - acc: 0.9991 - precision: 0.9994 - recall: 0.9991\n",
            "Epoch 43/50\n",
            "31/31 [==============================] - 4s 121ms/step - loss: 9.8036e-04 - acc: 0.9998 - precision: 0.9998 - recall: 0.9998\n",
            "Epoch 44/50\n",
            "31/31 [==============================] - 4s 121ms/step - loss: 0.0019 - acc: 0.9995 - precision: 0.9995 - recall: 0.9995\n",
            "Epoch 45/50\n",
            "31/31 [==============================] - 4s 121ms/step - loss: 9.7242e-04 - acc: 0.9997 - precision: 0.9997 - recall: 0.9998\n",
            "Epoch 46/50\n",
            "31/31 [==============================] - 4s 122ms/step - loss: 0.0013 - acc: 0.9997 - precision: 0.9995 - recall: 0.9999\n",
            "Epoch 47/50\n",
            "31/31 [==============================] - 4s 121ms/step - loss: 0.0010 - acc: 0.9997 - precision: 0.9997 - recall: 0.9998\n",
            "Epoch 48/50\n",
            "31/31 [==============================] - 4s 121ms/step - loss: 9.2480e-04 - acc: 0.9997 - precision: 0.9998 - recall: 0.9997\n",
            "Epoch 49/50\n",
            "31/31 [==============================] - 4s 121ms/step - loss: 0.0024 - acc: 0.9994 - precision: 0.9997 - recall: 0.9993\n",
            "Epoch 50/50\n",
            "31/31 [==============================] - 4s 121ms/step - loss: 6.3115e-04 - acc: 0.9999 - precision: 0.9998 - recall: 0.9999\n"
          ],
          "name": "stdout"
        },
        {
          "output_type": "execute_result",
          "data": {
            "text/plain": [
              "<keras.callbacks.History at 0x7f3c4937f898>"
            ]
          },
          "metadata": {
            "tags": []
          },
          "execution_count": 60
        }
      ]
    },
    {
      "cell_type": "code",
      "metadata": {
        "id": "_6yzRLujnsTf",
        "colab_type": "code",
        "outputId": "96fb2e64-bded-46c5-e375-62d347f339a3",
        "colab": {
          "base_uri": "https://localhost:8080/",
          "height": 34
        }
      },
      "source": [
        "# Evaluation on test set: 2nd run\n",
        "score = model.evaluate(X_test,y_test,verbose=0)\n",
        "score"
      ],
      "execution_count": 0,
      "outputs": [
        {
          "output_type": "execute_result",
          "data": {
            "text/plain": [
              "[0.03322909125196626, 0.9916666666666667, 0.9842519677289355, 0.9999999992]"
            ]
          },
          "metadata": {
            "tags": []
          },
          "execution_count": 61
        }
      ]
    },
    {
      "cell_type": "markdown",
      "metadata": {
        "id": "FZ3FtUzBTPxD",
        "colab_type": "text"
      },
      "source": [
        "### **Metrics**\n",
        "**Accuracy: 99.1%**\n",
        "\n",
        "**Precision: 0.98**\n",
        "\n",
        "**Recall: 0.99**\n"
      ]
    },
    {
      "cell_type": "code",
      "metadata": {
        "colab_type": "code",
        "outputId": "de667940-e7d4-478e-dab0-c936d8350252",
        "id": "YqTDGUXinxSF",
        "colab": {
          "base_uri": "https://localhost:8080/",
          "height": 499
        }
      },
      "source": [
        "# Accuracy and loss plots\n",
        "acc = history.history['acc']\n",
        "\n",
        "\n",
        "loss = history.history['loss']\n",
        "\n",
        "plt.figure(figsize=(8, 8))\n",
        "plt.subplot(2, 1, 1)\n",
        "plt.plot(acc, label='Training Accuracy')\n",
        "plt.legend(loc='lower right')\n",
        "plt.ylabel('Accuracy')\n",
        "plt.ylim([min(plt.ylim()),1])\n",
        "plt.title('Training Accuracy')\n",
        "\n",
        "plt.subplot(2, 1, 2)\n",
        "plt.plot(loss, label='Training Loss')\n",
        "plt.legend(loc='upper right')\n",
        "plt.ylabel('Cross Entropy')\n",
        "plt.ylim([0,max(plt.ylim())])\n",
        "plt.title('Training Loss')\n",
        "plt.show()"
      ],
      "execution_count": 0,
      "outputs": [
        {
          "output_type": "display_data",
          "data": {
            "image/png": "[encoded data removed]",
            "text/plain": [
              "<Figure size 576x576 with 2 Axes>"
            ]
          },
          "metadata": {
            "tags": []
          }
        }
      ]
    },
    {
      "cell_type": "markdown",
      "metadata": {
        "id": "fDVEOtfNTkP8",
        "colab_type": "text"
      },
      "source": [
        "#### **Case 4: Using only SinGAN, test set unaugmented**"
      ]
    },
    {
      "cell_type": "code",
      "metadata": {
        "colab_type": "code",
        "id": "24JH9nS5ZWnr",
        "colab": {}
      },
      "source": [
        "# singan only; test set not augmented\n",
        "batch_size = 32\n",
        "epochs = 50\n",
        "\n",
        "optimizer = keras.optimizers.rmsprop(lr = 0.0001, decay = 1e-6)\n",
        "\n",
        "model.compile(loss = 'binary_crossentropy',optimizer = optimizer, metrics = ['accuracy',keras_metrics.precision(), keras_metrics.recall()])"
      ],
      "execution_count": 0,
      "outputs": []
    },
    {
      "cell_type": "code",
      "metadata": {
        "id": "8p7goEChZmvc",
        "colab_type": "code",
        "outputId": "b6095692-4b9a-448c-fbd4-4d5d74190517",
        "colab": {
          "base_uri": "https://localhost:8080/",
          "height": 1000
        }
      },
      "source": [
        "history = model.fit(X_train,y_train,steps_per_epoch = int(len(X_train)/batch_size),epochs=epochs)\n",
        "history"
      ],
      "execution_count": 0,
      "outputs": [
        {
          "output_type": "stream",
          "text": [
            "Epoch 1/50\n",
            "31/31 [==============================] - 4s 132ms/step - loss: 0.6618 - acc: 0.6198 - precision: 0.6383 - recall: 0.7127\n",
            "Epoch 2/50\n",
            "31/31 [==============================] - 4s 121ms/step - loss: 0.3966 - acc: 0.8194 - precision: 0.8311 - recall: 0.8428\n",
            "Epoch 3/50\n",
            "31/31 [==============================] - 4s 121ms/step - loss: 0.2358 - acc: 0.9034 - precision: 0.9167 - recall: 0.9066\n",
            "Epoch 4/50\n",
            "31/31 [==============================] - 4s 122ms/step - loss: 0.1492 - acc: 0.9413 - precision: 0.9531 - recall: 0.9396\n",
            "Epoch 5/50\n",
            "31/31 [==============================] - 4s 121ms/step - loss: 0.0975 - acc: 0.9634 - precision: 0.9709 - recall: 0.9623\n",
            "Epoch 6/50\n",
            "31/31 [==============================] - 4s 121ms/step - loss: 0.0568 - acc: 0.9819 - precision: 0.9857 - recall: 0.9813\n",
            "Epoch 7/50\n",
            "31/31 [==============================] - 4s 122ms/step - loss: 0.0292 - acc: 0.9921 - precision: 0.9941 - recall: 0.9916\n",
            "Epoch 8/50\n",
            "31/31 [==============================] - 4s 121ms/step - loss: 0.0160 - acc: 0.9961 - precision: 0.9969 - recall: 0.9961\n",
            "Epoch 9/50\n",
            "31/31 [==============================] - 4s 121ms/step - loss: 0.0121 - acc: 0.9965 - precision: 0.9966 - recall: 0.9971\n",
            "Epoch 10/50\n",
            "31/31 [==============================] - 4s 122ms/step - loss: 0.0092 - acc: 0.9970 - precision: 0.9966 - recall: 0.9979\n",
            "Epoch 11/50\n",
            "31/31 [==============================] - 4s 121ms/step - loss: 0.0017 - acc: 1.0000 - precision: 1.0000 - recall: 0.9999\n",
            "Epoch 12/50\n",
            "31/31 [==============================] - 4s 122ms/step - loss: 0.0061 - acc: 0.9978 - precision: 0.9971 - recall: 0.9988\n",
            "Epoch 13/50\n",
            "31/31 [==============================] - 4s 121ms/step - loss: 8.9252e-04 - acc: 1.0000 - precision: 1.0000 - recall: 1.0000\n",
            "Epoch 14/50\n",
            "31/31 [==============================] - 4s 121ms/step - loss: 0.0038 - acc: 0.9986 - precision: 0.9993 - recall: 0.9982\n",
            "Epoch 15/50\n",
            "31/31 [==============================] - 4s 121ms/step - loss: 4.1289e-04 - acc: 1.0000 - precision: 1.0000 - recall: 1.0000\n",
            "Epoch 16/50\n",
            "31/31 [==============================] - 4s 122ms/step - loss: 0.0031 - acc: 0.9990 - precision: 0.9998 - recall: 0.9983\n",
            "Epoch 17/50\n",
            "31/31 [==============================] - 4s 121ms/step - loss: 1.8523e-04 - acc: 1.0000 - precision: 1.0000 - recall: 1.0000\n",
            "Epoch 18/50\n",
            "31/31 [==============================] - 4s 121ms/step - loss: 1.5234e-04 - acc: 1.0000 - precision: 1.0000 - recall: 1.0000\n",
            "Epoch 19/50\n",
            "31/31 [==============================] - 4s 122ms/step - loss: 0.0018 - acc: 0.9993 - precision: 0.9999 - recall: 0.9988\n",
            "Epoch 20/50\n",
            "31/31 [==============================] - 4s 121ms/step - loss: 5.3603e-05 - acc: 1.0000 - precision: 1.0000 - recall: 1.0000\n",
            "Epoch 21/50\n",
            "31/31 [==============================] - 4s 121ms/step - loss: 0.0014 - acc: 0.9996 - precision: 0.9999 - recall: 0.9993\n",
            "Epoch 22/50\n",
            "31/31 [==============================] - 4s 122ms/step - loss: 4.5427e-05 - acc: 1.0000 - precision: 1.0000 - recall: 1.0000\n",
            "Epoch 23/50\n",
            "31/31 [==============================] - 4s 121ms/step - loss: 2.9010e-05 - acc: 1.0000 - precision: 1.0000 - recall: 1.0000\n",
            "Epoch 24/50\n",
            "31/31 [==============================] - 4s 121ms/step - loss: 0.0047 - acc: 0.9980 - precision: 0.9966 - recall: 0.9999\n",
            "Epoch 25/50\n",
            "31/31 [==============================] - 4s 122ms/step - loss: 1.2951e-04 - acc: 1.0000 - precision: 1.0000 - recall: 0.9999\n",
            "Epoch 26/50\n",
            "31/31 [==============================] - 4s 121ms/step - loss: 2.7034e-05 - acc: 1.0000 - precision: 1.0000 - recall: 1.0000\n",
            "Epoch 27/50\n",
            "31/31 [==============================] - 4s 122ms/step - loss: 2.6323e-05 - acc: 1.0000 - precision: 1.0000 - recall: 1.0000\n",
            "Epoch 28/50\n",
            "31/31 [==============================] - 4s 121ms/step - loss: 6.7508e-04 - acc: 0.9997 - precision: 0.9999 - recall: 0.9996\n",
            "Epoch 29/50\n",
            "31/31 [==============================] - 4s 121ms/step - loss: 1.4612e-05 - acc: 1.0000 - precision: 1.0000 - recall: 1.0000\n",
            "Epoch 30/50\n",
            "31/31 [==============================] - 4s 121ms/step - loss: 9.6140e-06 - acc: 1.0000 - precision: 1.0000 - recall: 1.0000\n",
            "Epoch 31/50\n",
            "31/31 [==============================] - 4s 122ms/step - loss: 5.9057e-06 - acc: 1.0000 - precision: 1.0000 - recall: 1.0000\n",
            "Epoch 32/50\n",
            "31/31 [==============================] - 4s 121ms/step - loss: 0.0012 - acc: 0.9996 - precision: 0.9992 - recall: 1.0000\n",
            "Epoch 33/50\n",
            "31/31 [==============================] - 4s 122ms/step - loss: 9.6619e-05 - acc: 0.9999 - precision: 1.0000 - recall: 0.9999\n",
            "Epoch 34/50\n",
            "31/31 [==============================] - 4s 120ms/step - loss: 3.4206e-06 - acc: 1.0000 - precision: 1.0000 - recall: 1.0000\n",
            "Epoch 35/50\n",
            "31/31 [==============================] - 4s 121ms/step - loss: 1.6644e-06 - acc: 1.0000 - precision: 1.0000 - recall: 1.0000\n",
            "Epoch 36/50\n",
            "31/31 [==============================] - 4s 121ms/step - loss: 1.8943e-06 - acc: 1.0000 - precision: 1.0000 - recall: 1.0000\n",
            "Epoch 37/50\n",
            "31/31 [==============================] - 4s 120ms/step - loss: 3.5022e-04 - acc: 0.9999 - precision: 0.9998 - recall: 1.0000\n",
            "Epoch 38/50\n",
            "31/31 [==============================] - 4s 120ms/step - loss: 3.6377e-06 - acc: 1.0000 - precision: 1.0000 - recall: 1.0000\n",
            "Epoch 39/50\n",
            "31/31 [==============================] - 4s 121ms/step - loss: 1.1254e-06 - acc: 1.0000 - precision: 1.0000 - recall: 1.0000\n",
            "Epoch 40/50\n",
            "31/31 [==============================] - 4s 121ms/step - loss: 1.2700e-06 - acc: 1.0000 - precision: 1.0000 - recall: 1.0000\n",
            "Epoch 41/50\n",
            "31/31 [==============================] - 4s 121ms/step - loss: 3.0125e-04 - acc: 0.9999 - precision: 0.9999 - recall: 1.0000\n",
            "Epoch 42/50\n",
            "31/31 [==============================] - 4s 121ms/step - loss: 1.2583e-06 - acc: 1.0000 - precision: 1.0000 - recall: 1.0000\n",
            "Epoch 43/50\n",
            "31/31 [==============================] - 4s 120ms/step - loss: 1.8741e-06 - acc: 1.0000 - precision: 1.0000 - recall: 1.0000\n",
            "Epoch 44/50\n",
            "31/31 [==============================] - 4s 121ms/step - loss: 6.2341e-07 - acc: 1.0000 - precision: 1.0000 - recall: 1.0000\n",
            "Epoch 45/50\n",
            "31/31 [==============================] - 4s 121ms/step - loss: 4.0264e-05 - acc: 1.0000 - precision: 1.0000 - recall: 1.0000\n",
            "Epoch 46/50\n",
            "31/31 [==============================] - 4s 122ms/step - loss: 7.9778e-07 - acc: 1.0000 - precision: 1.0000 - recall: 1.0000\n",
            "Epoch 47/50\n",
            "31/31 [==============================] - 4s 121ms/step - loss: 3.7988e-07 - acc: 1.0000 - precision: 1.0000 - recall: 1.0000\n",
            "Epoch 48/50\n",
            "31/31 [==============================] - 4s 121ms/step - loss: 4.6987e-07 - acc: 1.0000 - precision: 1.0000 - recall: 1.0000\n",
            "Epoch 49/50\n",
            "31/31 [==============================] - 4s 122ms/step - loss: 2.5013e-07 - acc: 1.0000 - precision: 1.0000 - recall: 1.0000\n",
            "Epoch 50/50\n",
            "31/31 [==============================] - 4s 121ms/step - loss: 4.5841e-05 - acc: 1.0000 - precision: 1.0000 - recall: 1.0000\n"
          ],
          "name": "stdout"
        },
        {
          "output_type": "execute_result",
          "data": {
            "text/plain": [
              "<keras.callbacks.History at 0x7f387b9e0518>"
            ]
          },
          "metadata": {
            "tags": []
          },
          "execution_count": 75
        }
      ]
    },
    {
      "cell_type": "code",
      "metadata": {
        "id": "VAyuNjNDqKwz",
        "colab_type": "code",
        "outputId": "d41a0e1a-431a-43e2-8cb8-8fd711d0b8b4",
        "colab": {
          "base_uri": "https://localhost:8080/",
          "height": 34
        }
      },
      "source": [
        "# Evaluation on test set: 2nd run\n",
        "score = model.evaluate(X_test,y_test,verbose=0)\n",
        "score\n"
      ],
      "execution_count": 0,
      "outputs": [
        {
          "output_type": "execute_result",
          "data": {
            "text/plain": [
              "[3.8665573438008627, 0.75, 0.6705202308262889, 0.9747899151472355]"
            ]
          },
          "metadata": {
            "tags": []
          },
          "execution_count": 76
        }
      ]
    },
    {
      "cell_type": "markdown",
      "metadata": {
        "id": "zkwH3W5MiexV",
        "colab_type": "text"
      },
      "source": [
        "### **Metrics**\n",
        "**Accuracy: 75%**\n",
        "\n",
        "**Precision: 0.67**\n",
        "\n",
        "**Recall: 0.97**\n"
      ]
    },
    {
      "cell_type": "code",
      "metadata": {
        "colab_type": "code",
        "outputId": "ef9447eb-2cb2-44f6-fdbf-62cac804167c",
        "id": "Coml4pvkqZHP",
        "colab": {
          "base_uri": "https://localhost:8080/",
          "height": 499
        }
      },
      "source": [
        "# Accuracy and test plots\n",
        "acc = history.history['acc']\n",
        "\n",
        "\n",
        "loss = history.history['loss']\n",
        "\n",
        "plt.figure(figsize=(8, 8))\n",
        "plt.subplot(2, 1, 1)\n",
        "plt.plot(acc, label='Training Accuracy')\n",
        "plt.legend(loc='lower right')\n",
        "plt.ylabel('Accuracy')\n",
        "plt.ylim([min(plt.ylim()),1])\n",
        "plt.title('Training Accuracy')\n",
        "\n",
        "plt.subplot(2, 1, 2)\n",
        "plt.plot(loss, label='Training Loss')\n",
        "plt.legend(loc='upper right')\n",
        "plt.ylabel('Cross Entropy')\n",
        "plt.ylim([0,max(plt.ylim())])\n",
        "plt.title('Training Loss')\n",
        "plt.show()"
      ],
      "execution_count": 0,
      "outputs": [
        {
          "output_type": "display_data",
          "data": {
            "image/png": "[encoded data removed]",
            "text/plain": [
              "<Figure size 576x576 with 2 Axes>"
            ]
          },
          "metadata": {
            "tags": []
          }
        }
      ]
    }
  ]
}